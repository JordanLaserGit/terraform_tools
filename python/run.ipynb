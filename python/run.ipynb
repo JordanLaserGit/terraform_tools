{
 "cells": [
  {
   "cell_type": "code",
   "execution_count": 1,
   "metadata": {},
   "outputs": [
    {
     "ename": "KeyError",
     "evalue": "'tags'",
     "output_type": "error",
     "traceback": [
      "\u001b[0;31m---------------------------------------------------------------------------\u001b[0m",
      "\u001b[0;31mKeyError\u001b[0m                                  Traceback (most recent call last)",
      "Cell \u001b[0;32mIn[1], line 8\u001b[0m\n\u001b[1;32m      6\u001b[0m response \u001b[39m=\u001b[39m Boto3Response()\n\u001b[1;32m      7\u001b[0m response\u001b[39m.\u001b[39mami \u001b[39m=\u001b[39m \u001b[39m'\u001b[39m\u001b[39mami-005f9685cb30f234b\u001b[39m\u001b[39m'\u001b[39m\n\u001b[0;32m----> 8\u001b[0m response\u001b[39m.\u001b[39;49mtag_split()\n\u001b[1;32m      9\u001b[0m response\u001b[39m.\u001b[39mgen_all_responses()\n",
      "File \u001b[0;32m~/code/terraform_tools/python/boto3_response.py:15\u001b[0m, in \u001b[0;36mBoto3Response.tag_split\u001b[0;34m(self)\u001b[0m\n\u001b[1;32m     14\u001b[0m \u001b[39mdef\u001b[39;00m \u001b[39mtag_split\u001b[39m(\u001b[39mself\u001b[39m):      \n\u001b[0;32m---> 15\u001b[0m     tag_response  \u001b[39m=\u001b[39m \u001b[39mself\u001b[39;49m\u001b[39m.\u001b[39;49mec2_responses[\u001b[39m'\u001b[39;49m\u001b[39mtags\u001b[39;49m\u001b[39m'\u001b[39;49m]\n\u001b[1;32m     17\u001b[0m     \u001b[39m# split tags based on resource type\u001b[39;00m\n\u001b[1;32m     18\u001b[0m     response_types \u001b[39m=\u001b[39m []\n",
      "\u001b[0;31mKeyError\u001b[0m: 'tags'"
     ]
    }
   ],
   "source": [
    "import os, sys, subprocess\n",
    "from boto3_response import *\n",
    "from boto3_2_terraform import *\n",
    "\n",
    "# Generate boto3 responses from image\n",
    "response = Boto3Response()\n",
    "response.ami = 'ami-005f9685cb30f234b'\n",
    "response.gen_all_responses()\n",
    "response.tag_split()"
   ]
  },
  {
   "cell_type": "code",
   "execution_count": null,
   "metadata": {},
   "outputs": [],
   "source": [
    "# Convert responses to terraform config file\n",
    "converter = Converter(response)\n",
    "converter.tf_file = '/home/jlaser/code/terraform_tools/data/dev_file.tf'\n",
    "converter.convert()\n",
    "converter.write()\n",
    "converter.validate()"
   ]
  }
 ],
 "metadata": {
  "kernelspec": {
   "display_name": "lynker-dev1",
   "language": "python",
   "name": "python3"
  },
  "language_info": {
   "codemirror_mode": {
    "name": "ipython",
    "version": 3
   },
   "file_extension": ".py",
   "mimetype": "text/x-python",
   "name": "python",
   "nbconvert_exporter": "python",
   "pygments_lexer": "ipython3",
   "version": "3.8.16"
  },
  "orig_nbformat": 4,
  "vscode": {
   "interpreter": {
    "hash": "1f1f3cafe8567d5cb6d134ab9e214d404011f0b0a0bb922fd0b88f6b6eaeda6d"
   }
  }
 },
 "nbformat": 4,
 "nbformat_minor": 2
}
